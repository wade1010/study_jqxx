{
 "cells": [
  {
   "cell_type": "code",
   "execution_count": 1,
   "id": "09487f20-5042-4ce6-98f4-fc2ffa8fcf8e",
   "metadata": {
    "tags": []
   },
   "outputs": [],
   "source": [
    "import numpy as np"
   ]
  },
  {
   "cell_type": "markdown",
   "id": "982ea9b8-0a02-48f5-aa13-ee4c68810a06",
   "metadata": {},
   "source": [
    "# 1 生成数组的方法\n",
    "## 1.1 生成0 , 1数组"
   ]
  },
  {
   "cell_type": "code",
   "execution_count": 2,
   "id": "c7312979-849b-4109-9f51-e0efa46d0691",
   "metadata": {
    "tags": []
   },
   "outputs": [
    {
     "data": {
      "text/plain": [
       "array([[1., 1., 1., 1., 1., 1., 1., 1.],\n",
       "       [1., 1., 1., 1., 1., 1., 1., 1.],\n",
       "       [1., 1., 1., 1., 1., 1., 1., 1.],\n",
       "       [1., 1., 1., 1., 1., 1., 1., 1.]])"
      ]
     },
     "execution_count": 2,
     "metadata": {},
     "output_type": "execute_result"
    }
   ],
   "source": [
    "ones = np.ones([4,8])\n",
    "ones"
   ]
  },
  {
   "cell_type": "code",
   "execution_count": 3,
   "id": "53259850-491a-426f-a6db-8966b06dd00a",
   "metadata": {
    "tags": []
   },
   "outputs": [
    {
     "data": {
      "text/plain": [
       "array([[0., 0., 0., 0., 0., 0., 0., 0.],\n",
       "       [0., 0., 0., 0., 0., 0., 0., 0.],\n",
       "       [0., 0., 0., 0., 0., 0., 0., 0.],\n",
       "       [0., 0., 0., 0., 0., 0., 0., 0.]])"
      ]
     },
     "execution_count": 3,
     "metadata": {},
     "output_type": "execute_result"
    }
   ],
   "source": [
    "np.zeros_like(ones)"
   ]
  },
  {
   "cell_type": "code",
   "execution_count": 4,
   "id": "c84c6b00-b992-46ce-9430-a260db98d12a",
   "metadata": {
    "tags": []
   },
   "outputs": [
    {
     "data": {
      "text/plain": [
       "array([[1, 2, 3],\n",
       "       [4, 5, 6]])"
      ]
     },
     "execution_count": 4,
     "metadata": {},
     "output_type": "execute_result"
    }
   ],
   "source": [
    "a = np.array([[1,2,3],[4,5,6]])\n",
    "a"
   ]
  },
  {
   "cell_type": "code",
   "execution_count": 5,
   "id": "ca5e6061-1785-4840-af4b-ce82e3f94959",
   "metadata": {
    "tags": []
   },
   "outputs": [],
   "source": [
    "a1 = np.array(a)"
   ]
  },
  {
   "cell_type": "code",
   "execution_count": 6,
   "id": "0687ae56-2567-4ef3-8163-11e602356531",
   "metadata": {
    "tags": []
   },
   "outputs": [
    {
     "data": {
      "text/plain": [
       "array([[1, 2, 3],\n",
       "       [4, 5, 6]])"
      ]
     },
     "execution_count": 6,
     "metadata": {},
     "output_type": "execute_result"
    }
   ],
   "source": [
    "a1"
   ]
  },
  {
   "cell_type": "code",
   "execution_count": 7,
   "id": "468a434e-d61b-4e76-bd24-ff9411ec290a",
   "metadata": {
    "tags": []
   },
   "outputs": [
    {
     "data": {
      "text/plain": [
       "array([[1, 2, 3],\n",
       "       [4, 5, 6]])"
      ]
     },
     "execution_count": 7,
     "metadata": {},
     "output_type": "execute_result"
    }
   ],
   "source": [
    "a2 = np.asanyarray(a)\n",
    "a2"
   ]
  },
  {
   "cell_type": "code",
   "execution_count": 8,
   "id": "b739854b-d2f2-4540-bfdc-99afdd6ec893",
   "metadata": {
    "tags": []
   },
   "outputs": [],
   "source": [
    "a[0,0]=1000"
   ]
  },
  {
   "cell_type": "code",
   "execution_count": 9,
   "id": "d7f89e1b-75ea-467c-b49d-3d938646103a",
   "metadata": {
    "tags": []
   },
   "outputs": [
    {
     "data": {
      "text/plain": [
       "array([[1, 2, 3],\n",
       "       [4, 5, 6]])"
      ]
     },
     "execution_count": 9,
     "metadata": {},
     "output_type": "execute_result"
    }
   ],
   "source": [
    "a1"
   ]
  },
  {
   "cell_type": "code",
   "execution_count": 10,
   "id": "3e6dd31d-15d4-4ab7-8edc-6a79a5c4f99b",
   "metadata": {
    "tags": []
   },
   "outputs": [
    {
     "data": {
      "text/plain": [
       "array([[1000,    2,    3],\n",
       "       [   4,    5,    6]])"
      ]
     },
     "execution_count": 10,
     "metadata": {},
     "output_type": "execute_result"
    }
   ],
   "source": [
    "a2"
   ]
  },
  {
   "cell_type": "code",
   "execution_count": 11,
   "id": "9ac98f5c-1fce-46a2-b3bd-4cae1beed574",
   "metadata": {
    "tags": []
   },
   "outputs": [
    {
     "data": {
      "text/plain": [
       "array([  0.,  10.,  20.,  30.,  40.,  50.,  60.,  70.,  80.,  90., 100.])"
      ]
     },
     "execution_count": 11,
     "metadata": {},
     "output_type": "execute_result"
    }
   ],
   "source": [
    "np.linspace(0,100,11)"
   ]
  },
  {
   "cell_type": "markdown",
   "id": "8d206873-9cad-4839-b9b9-3d774aa569bc",
   "metadata": {
    "tags": []
   },
   "source": [
    "# 生成随机数组\n",
    "## 正态分布"
   ]
  },
  {
   "cell_type": "code",
   "execution_count": 12,
   "id": "b34f01cd-bbef-430b-9d96-c878fb5d336a",
   "metadata": {},
   "outputs": [],
   "source": [
    "x1 = np.random.normal(1.75,1,100000000)"
   ]
  },
  {
   "cell_type": "code",
   "execution_count": 13,
   "id": "86e04bcc-42d5-4ed6-be6d-0fb46930b777",
   "metadata": {},
   "outputs": [
    {
     "data": {
      "text/plain": [
       "array([1.08300354, 2.52834049, 1.62115782, ..., 1.38184042, 2.63969046,\n",
       "       2.58317419])"
      ]
     },
     "execution_count": 13,
     "metadata": {},
     "output_type": "execute_result"
    }
   ],
   "source": [
    "x1"
   ]
  },
  {
   "cell_type": "code",
   "execution_count": 14,
   "id": "1ebbcda2-336d-4568-84ee-92814e24ecb4",
   "metadata": {},
   "outputs": [],
   "source": [
    "import matplotlib.pyplot as plt"
   ]
  },
  {
   "cell_type": "code",
   "execution_count": 21,
   "id": "5efdd66c-424b-42af-823d-f648d1fcdb62",
   "metadata": {},
   "outputs": [
    {
     "data": {
      "image/png": "[encoded data removed]",
      "text/plain": [
       "<Figure size 2000x800 with 1 Axes>"
      ]
     },
     "metadata": {},
     "output_type": "display_data"
    }
   ],
   "source": [
    "plt.figure(figsize=(20,8),dpi=100) \n",
    "plt.hist(x1,1000)\n",
    "plt.show()"
   ]
  },
  {
   "cell_type": "markdown",
   "id": "85c55d06-d23a-4b2b-a94e-5dfb753ad83f",
   "metadata": {},
   "source": [
    "## 随机生成4支股票1周的交易日涨幅数据"
   ]
  },
  {
   "cell_type": "code",
   "execution_count": 23,
   "id": "00111ca7-deeb-4385-875c-cf69521dfe6d",
   "metadata": {},
   "outputs": [
    {
     "data": {
      "text/plain": [
       "array([[ 0.81880137,  0.54308327,  0.49079788,  1.67115098, -0.89460421],\n",
       "       [ 0.5459133 , -0.51525309,  0.40900714,  1.32734611, -0.75076879],\n",
       "       [ 0.53023156, -1.2090156 , -1.22017121,  0.19643275,  0.54570637],\n",
       "       [ 0.84500398, -1.49541012,  0.22225948, -0.85942918, -0.08390754]])"
      ]
     },
     "execution_count": 23,
     "metadata": {},
     "output_type": "execute_result"
    }
   ],
   "source": [
    "stock_change = np.random.normal(0,1,[4,5])\n",
    "stock_change"
   ]
  },
  {
   "cell_type": "code",
   "execution_count": 24,
   "id": "e4af498b-5178-4904-9636-4e7074b097ec",
   "metadata": {},
   "outputs": [
    {
     "data": {
      "text/plain": [
       "array([[ 0.81880137,  0.54308327,  0.49079788,  1.67115098],\n",
       "       [-0.89460421,  0.5459133 , -0.51525309,  0.40900714],\n",
       "       [ 1.32734611, -0.75076879,  0.53023156, -1.2090156 ],\n",
       "       [-1.22017121,  0.19643275,  0.54570637,  0.84500398],\n",
       "       [-1.49541012,  0.22225948, -0.85942918, -0.08390754]])"
      ]
     },
     "execution_count": 24,
     "metadata": {},
     "output_type": "execute_result"
    }
   ],
   "source": [
    "stock_change.reshape([5,4])"
   ]
  },
  {
   "cell_type": "code",
   "execution_count": 25,
   "id": "d7e6b0f1-82e0-4b8f-9536-cd3b14269985",
   "metadata": {},
   "outputs": [
    {
     "data": {
      "text/plain": [
       "array([[ 0.81880137,  0.54308327,  0.49079788,  1.67115098, -0.89460421],\n",
       "       [ 0.5459133 , -0.51525309,  0.40900714,  1.32734611, -0.75076879],\n",
       "       [ 0.53023156, -1.2090156 , -1.22017121,  0.19643275,  0.54570637],\n",
       "       [ 0.84500398, -1.49541012,  0.22225948, -0.85942918, -0.08390754]])"
      ]
     },
     "execution_count": 25,
     "metadata": {},
     "output_type": "execute_result"
    }
   ],
   "source": [
    "stock_change"
   ]
  },
  {
   "cell_type": "code",
   "execution_count": 28,
   "id": "bbfe665a-3a4d-4d46-af24-e8637330a02e",
   "metadata": {},
   "outputs": [],
   "source": [
    "stock_change.resize([5,4])"
   ]
  },
  {
   "cell_type": "code",
   "execution_count": 29,
   "id": "d4a7ae91-add3-43ef-8f28-fd7d48a2095b",
   "metadata": {},
   "outputs": [
    {
     "data": {
      "text/plain": [
       "array([[ 0.81880137,  0.54308327,  0.49079788,  1.67115098],\n",
       "       [-0.89460421,  0.5459133 , -0.51525309,  0.40900714],\n",
       "       [ 1.32734611, -0.75076879,  0.53023156, -1.2090156 ],\n",
       "       [-1.22017121,  0.19643275,  0.54570637,  0.84500398],\n",
       "       [-1.49541012,  0.22225948, -0.85942918, -0.08390754]])"
      ]
     },
     "execution_count": 29,
     "metadata": {},
     "output_type": "execute_result"
    }
   ],
   "source": [
    "stock_change"
   ]
  },
  {
   "cell_type": "code",
   "execution_count": null,
   "id": "6de62410-88f5-4a1d-a3e7-04f14840f8d0",
   "metadata": {},
   "outputs": [],
   "source": []
  }
 ],
 "metadata": {
  "kernelspec": {
   "display_name": "Python 3 (ipykernel)",
   "language": "python",
   "name": "python3"
  },
  "language_info": {
   "codemirror_mode": {
    "name": "ipython",
    "version": 3
   },
   "file_extension": ".py",
   "mimetype": "text/x-python",
   "name": "python",
   "nbconvert_exporter": "python",
   "pygments_lexer": "ipython3",
   "version": "3.10.12"
  }
 },
 "nbformat": 4,
 "nbformat_minor": 5
}
