{
 "cells": [
  {
   "cell_type": "code",
   "execution_count": 1,
   "id": "3fcaf25a-f813-44ac-87b4-bbf439fc717b",
   "metadata": {},
   "outputs": [],
   "source": [
    "from sklearn.neighbors import KNeighborsClassifier\n",
    "from sklearn.datasets import load_iris\n",
    "from sklearn.model_selection import train_test_split\n",
    "from sklearn.preprocessing import StandardScaler"
   ]
  },
  {
   "cell_type": "code",
   "execution_count": 5,
   "id": "30b0f7c0-252e-4364-abdc-4a8528e86afa",
   "metadata": {},
   "outputs": [
    {
     "name": "stdout",
     "output_type": "stream",
     "text": [
      "预测值是： [0 2 1 2 1 1 1 1 1 0 2 1 2 2 0 2 1 1 1 1 0 2 0 1 2 0 2 2 2 2]\n",
      "预测值和真实值的对比是： [ True  True  True  True  True  True  True False  True  True  True  True\n",
      "  True  True  True  True  True  True False  True  True  True  True  True\n",
      "  True  True  True  True  True  True]\n",
      "准确率为： 0.9333333333333333\n"
     ]
    }
   ],
   "source": [
    "# 1 获取数据\n",
    "iris = load_iris()\n",
    "\n",
    "# 2 数据基本处理\n",
    "x_train,x_test,y_train,y_test = train_test_split(iris.data,iris.target,test_size=0.2,random_state=22)\n",
    "\n",
    "# 3 特征工程-特征预处理\n",
    "transfer = StandardScaler()\n",
    "x_train = transfer.fit_transform(x_train)   # 计算训练集的均值和方差\n",
    "x_test = transfer.transform(x_test)\n",
    "\n",
    "# 4 机器学习-KNN\n",
    "# 4.1实例化一个估计器\n",
    "estimator = KNeighborsClassifier(n_neighbors=5)\n",
    "# 4.2 模型训练\n",
    "estimator.fit(x_train,y_train)\n",
    "\n",
    "# 5 模型评估\n",
    "# 5.1 预测值结果输出\n",
    "y_pred = estimator.predict(x_test)\n",
    "print(\"预测值是：\",y_pred)\n",
    "print(\"预测值和真实值的对比是：\",y_pred==y_test)\n",
    "\n",
    "# 5.2 准确率计算\n",
    "score = estimator.score(x_test,y_test)\n",
    "print(\"准确率为：\",score)"
   ]
  },
  {
   "cell_type": "code",
   "execution_count": null,
   "id": "2f2349bc-85d4-4f58-b421-62ac41ddb03c",
   "metadata": {},
   "outputs": [],
   "source": []
  }
 ],
 "metadata": {
  "kernelspec": {
   "display_name": "Python 3 (ipykernel)",
   "language": "python",
   "name": "python3"
  },
  "language_info": {
   "codemirror_mode": {
    "name": "ipython",
    "version": 3
   },
   "file_extension": ".py",
   "mimetype": "text/x-python",
   "name": "python",
   "nbconvert_exporter": "python",
   "pygments_lexer": "ipython3",
   "version": "3.10.12"
  }
 },
 "nbformat": 4,
 "nbformat_minor": 5
}
