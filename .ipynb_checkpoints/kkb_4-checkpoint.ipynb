{
 "cells": [
  {
   "cell_type": "code",
   "execution_count": 12,
   "id": "46a697fe-b0ad-4ad8-a245-f4cf6b7834dd",
   "metadata": {
    "tags": []
   },
   "outputs": [],
   "source": [
    "import numpy as np\n",
    "import pandas as pd\n",
    "import matplotlib.pyplot as plt"
   ]
  },
  {
   "cell_type": "code",
   "execution_count": 15,
   "id": "1e49d5a7-2f22-461d-b2d3-fc43850950ab",
   "metadata": {
    "tags": []
   },
   "outputs": [],
   "source": [
    "from struct import unpack"
   ]
  },
  {
   "cell_type": "code",
   "execution_count": 17,
   "id": "4446cd21-29a8-485d-af2a-0daf711cb04c",
   "metadata": {
    "tags": []
   },
   "outputs": [],
   "source": [
    "def loadmnist(imagefile, labelfile):\n",
    "\n",
    "    # Open the images with gzip in read binary mode\n",
    "    images = open(imagefile, 'rb')\n",
    "    labels = open(labelfile, 'rb')\n",
    "\n",
    "    # Get metadata for images\n",
    "    images.read(4)  # skip the magic_number\n",
    "    number_of_images = images.read(4)\n",
    "    number_of_images = unpack('>I', number_of_images)[0]\n",
    "    rows = images.read(4)\n",
    "    rows = unpack('>I', rows)[0]\n",
    "    cols = images.read(4)\n",
    "    cols = unpack('>I', cols)[0]\n",
    "\n",
    "    # Get metadata for labels\n",
    "    labels.read(4)\n",
    "    N = labels.read(4)\n",
    "    N = unpack('>I', N)[0]\n",
    "\n",
    "    # Get data\n",
    "    x = np.zeros((N, rows*cols), dtype=np.uint8)  # Initialize numpy array\n",
    "    y = np.zeros(N, dtype=np.uint8)  # Initialize numpy array\n",
    "    for i in range(N):\n",
    "        for j in range(rows*cols):\n",
    "            tmp_pixel = images.read(1)  # Just a single byte\n",
    "            tmp_pixel = unpack('>B', tmp_pixel)[0]\n",
    "            x[i][j] = tmp_pixel\n",
    "        tmp_label = labels.read(1)\n",
    "        y[i] = unpack('>B', tmp_label)[0]\n",
    "\n",
    "    images.close()\n",
    "    labels.close()\n",
    "    return (x, y)"
   ]
  },
  {
   "cell_type": "code",
   "execution_count": 19,
   "id": "609a10d0-c865-4d71-890e-7b1326f263a3",
   "metadata": {
    "tags": []
   },
   "outputs": [],
   "source": [
    "test_x,  test_y= loadmnist('dataset/t10k-images-idx3-ubyte', 'dataset/t10k-labels-idx1-ubyte')\n",
    "train_x, train_y = loadmnist('dataset/train-images-idx3-ubyte', 'dataset/train-labels-idx1-ubyte')"
   ]
  },
  {
   "cell_type": "code",
   "execution_count": 21,
   "id": "7eb045da-274f-47b3-8fc1-f108f6da1c70",
   "metadata": {
    "tags": []
   },
   "outputs": [
    {
     "data": {
      "text/plain": [
       "(60000, 784)"
      ]
     },
     "execution_count": 21,
     "metadata": {},
     "output_type": "execute_result"
    }
   ],
   "source": [
    "train_x.shape"
   ]
  },
  {
   "cell_type": "code",
   "execution_count": 22,
   "id": "8a2fb0d2-bc0b-41b8-ad51-1ef53bb414f2",
   "metadata": {
    "tags": []
   },
   "outputs": [
    {
     "data": {
      "text/plain": [
       "array([[0, 0, 0, ..., 0, 0, 0],\n",
       "       [0, 0, 0, ..., 0, 0, 0],\n",
       "       [0, 0, 0, ..., 0, 0, 0],\n",
       "       ...,\n",
       "       [0, 0, 0, ..., 0, 0, 0],\n",
       "       [0, 0, 0, ..., 0, 0, 0],\n",
       "       [0, 0, 0, ..., 0, 0, 0]], dtype=uint8)"
      ]
     },
     "execution_count": 22,
     "metadata": {},
     "output_type": "execute_result"
    }
   ],
   "source": [
    "test_x"
   ]
  },
  {
   "cell_type": "code",
   "execution_count": 23,
   "id": "7e4fcc02-1cfb-4db6-84d4-036c21c53e2a",
   "metadata": {
    "tags": []
   },
   "outputs": [
    {
     "data": {
      "text/plain": [
       "array([7, 2, 1, ..., 4, 5, 6], dtype=uint8)"
      ]
     },
     "execution_count": 23,
     "metadata": {},
     "output_type": "execute_result"
    }
   ],
   "source": [
    "test_y"
   ]
  },
  {
   "cell_type": "code",
   "execution_count": 24,
   "id": "eef05736-1568-4e65-aaf6-e128c3fe09a0",
   "metadata": {
    "tags": []
   },
   "outputs": [
    {
     "data": {
      "image/png": "[encoded data removed]",
      "text/plain": [
       "<Figure size 2000x400 with 5 Axes>"
      ]
     },
     "metadata": {},
     "output_type": "display_data"
    }
   ],
   "source": [
    "plt.figure(figsize=(20,4))\n",
    "for index, (image, label) in enumerate(zip(train_x[0:5], train_y[0:5])):\n",
    "    plt.subplot(1, 5, index + 1)\n",
    "    plt.imshow(np.reshape(image, (28,28)))\n",
    "    plt.title('Training: %i\\n' % label, fontsize = 20)"
   ]
  },
  {
   "cell_type": "code",
   "execution_count": 26,
   "id": "4dadfde1-a12f-445f-8811-71ce0f1ebac3",
   "metadata": {
    "tags": []
   },
   "outputs": [],
   "source": [
    "zero_train_indices = np.where(train_y == 0)\n",
    "six_train_indices = np.where(train_y == 6)\n",
    "train_indices = np.concatenate((zero_train_indices[0], six_train_indices[0]))\n",
    "\n",
    "zero_test_indices = np.where(test_y == 0)\n",
    "six_test_indices = np.where(test_y == 6)\n",
    "test_indices = np.concatenate((zero_test_indices[0], six_test_indices[0]))"
   ]
  },
  {
   "cell_type": "code",
   "execution_count": 30,
   "id": "8b452d70-a2cd-4ce1-8ca5-53af3731ae45",
   "metadata": {
    "tags": []
   },
   "outputs": [],
   "source": [
    "train_indices = np.random.choice(train_indices, size=len(train_indices), replace=False)\n",
    "test_indices = np.random.choice(test_indices, size=len(test_indices), replace=False)"
   ]
  },
  {
   "cell_type": "code",
   "execution_count": 33,
   "id": "66f73557-f4e5-4e08-87f8-13d3743a50c4",
   "metadata": {
    "tags": []
   },
   "outputs": [],
   "source": [
    "val_ratio = 0.2\n",
    "\n",
    "train_indices = train_indices[: int(len(train_indices) * (1 - val_ratio))]\n",
    "val_indices = train_indices[int(len(train_indices) * (1 - val_ratio)):]"
   ]
  },
  {
   "cell_type": "code",
   "execution_count": 34,
   "id": "d25e0408-859a-48a8-8722-446a65ed59e1",
   "metadata": {
    "tags": []
   },
   "outputs": [],
   "source": [
    "binary_x_train = train_x[train_indices]\n",
    "binary_x_test = test_x[test_indices]\n",
    "binary_x_val = train_x[val_indices]\n",
    "\n",
    "binary_y_val = train_y[val_indices]\n",
    "binary_y_train = train_y[train_indices]\n",
    "binary_y_test = test_y[test_indices]"
   ]
  },
  {
   "cell_type": "code",
   "execution_count": 35,
   "id": "f6187248-1067-42e5-8920-6cf696beac1d",
   "metadata": {
    "tags": []
   },
   "outputs": [],
   "source": [
    "import random"
   ]
  },
  {
   "cell_type": "code",
   "execution_count": 36,
   "id": "8c9b9075-6b54-4a60-aa5b-35c6b4f8e868",
   "metadata": {
    "tags": []
   },
   "outputs": [
    {
     "data": {
      "text/plain": [
       "array([0, 6, 0, ..., 6, 0, 6], dtype=uint8)"
      ]
     },
     "execution_count": 36,
     "metadata": {},
     "output_type": "execute_result"
    }
   ],
   "source": [
    "binary_y_train"
   ]
  },
  {
   "cell_type": "code",
   "execution_count": 37,
   "id": "ca469586-c6b8-49f3-843b-774f8ccdee3a",
   "metadata": {
    "tags": []
   },
   "outputs": [
    {
     "data": {
      "text/plain": [
       "Text(0.5, 1.0, 'Training: 6\\n')"
      ]
     },
     "execution_count": 37,
     "metadata": {},
     "output_type": "execute_result"
    },
    {
     "data": {
      "image/png": "[encoded data removed]",
      "text/plain": [
       "<Figure size 640x480 with 1 Axes>"
      ]
     },
     "metadata": {},
     "output_type": "display_data"
    }
   ],
   "source": [
    "plt.imshow(np.reshape(binary_x_train[1], (28,28)))\n",
    "plt.title('Training: %i\\n' % binary_y_train[1], fontsize = 20)"
   ]
  },
  {
   "cell_type": "code",
   "execution_count": 38,
   "id": "3bb6eb84-7bd4-44cc-b9bc-8c12ebc7d158",
   "metadata": {
    "tags": []
   },
   "outputs": [],
   "source": [
    "from collections import Counter"
   ]
  },
  {
   "cell_type": "code",
   "execution_count": 39,
   "id": "7efa4340-f117-45b5-a09b-cfb1b514cad5",
   "metadata": {
    "tags": []
   },
   "outputs": [
    {
     "data": {
      "text/plain": [
       "Counter({0: 4745, 6: 4727})"
      ]
     },
     "execution_count": 39,
     "metadata": {},
     "output_type": "execute_result"
    }
   ],
   "source": [
    "Counter(binary_y_train)"
   ]
  },
  {
   "cell_type": "code",
   "execution_count": 40,
   "id": "7b1c5319-e966-4079-83b5-d0776295c61c",
   "metadata": {
    "tags": []
   },
   "outputs": [
    {
     "data": {
      "text/plain": [
       "Counter({0: 980, 6: 958})"
      ]
     },
     "execution_count": 40,
     "metadata": {},
     "output_type": "execute_result"
    }
   ],
   "source": [
    "Counter(binary_y_test)"
   ]
  },
  {
   "cell_type": "code",
   "execution_count": 41,
   "id": "a5f3ecc0-94b1-4868-823b-23cb1d70a309",
   "metadata": {
    "tags": []
   },
   "outputs": [
    {
     "data": {
      "text/plain": [
       "Counter({6: 954, 0: 941})"
      ]
     },
     "execution_count": 41,
     "metadata": {},
     "output_type": "execute_result"
    }
   ],
   "source": [
    "Counter(binary_y_val)"
   ]
  },
  {
   "cell_type": "markdown",
   "id": "8f3a82f3-ed87-41ae-a975-bc237a0398dc",
   "metadata": {},
   "source": [
    "## Build Model"
   ]
  },
  {
   "cell_type": "code",
   "execution_count": 42,
   "id": "0dead269-6d73-469f-bf45-0b90beeb95c3",
   "metadata": {
    "tags": []
   },
   "outputs": [],
   "source": [
    "from sklearn.linear_model import LogisticRegression"
   ]
  },
  {
   "cell_type": "code",
   "execution_count": 43,
   "id": "618c89aa-3bcb-4811-99c3-aca292f04345",
   "metadata": {
    "tags": []
   },
   "outputs": [],
   "source": [
    "clf = LogisticRegression(random_state=0, solver='lbfgs')\n",
    "# L-BFGS-B – Software for Large-scale Bound-constrained Optimization"
   ]
  },
  {
   "cell_type": "code",
   "execution_count": 44,
   "id": "cdf2c47c-0c25-4c61-967b-842503c25f03",
   "metadata": {
    "tags": []
   },
   "outputs": [
    {
     "name": "stderr",
     "output_type": "stream",
     "text": [
      "/home/cheng/miniconda3/envs/chatglm2/lib/python3.10/site-packages/sklearn/linear_model/_logistic.py:460: ConvergenceWarning: lbfgs failed to converge (status=1):\n",
      "STOP: TOTAL NO. of ITERATIONS REACHED LIMIT.\n",
      "\n",
      "Increase the number of iterations (max_iter) or scale the data as shown in:\n",
      "    https://scikit-learn.org/stable/modules/preprocessing.html\n",
      "Please also refer to the documentation for alternative solver options:\n",
      "    https://scikit-learn.org/stable/modules/linear_model.html#logistic-regression\n",
      "  n_iter_i = _check_optimize_result(\n"
     ]
    },
    {
     "data": {
      "text/html": [
       "<style>#sk-container-id-1 {color: black;}#sk-container-id-1 pre{padding: 0;}#sk-container-id-1 div.sk-toggleable {background-color: white;}#sk-container-id-1 label.sk-toggleable__label {cursor: pointer;display: block;width: 100%;margin-bottom: 0;padding: 0.3em;box-sizing: border-box;text-align: center;}#sk-container-id-1 label.sk-toggleable__label-arrow:before {content: \"▸\";float: left;margin-right: 0.25em;color: #696969;}#sk-container-id-1 label.sk-toggleable__label-arrow:hover:before {color: black;}#sk-container-id-1 div.sk-estimator:hover label.sk-toggleable__label-arrow:before {color: black;}#sk-container-id-1 div.sk-toggleable__content {max-height: 0;max-width: 0;overflow: hidden;text-align: left;background-color: #f0f8ff;}#sk-container-id-1 div.sk-toggleable__content pre {margin: 0.2em;color: black;border-radius: 0.25em;background-color: #f0f8ff;}#sk-container-id-1 input.sk-toggleable__control:checked~div.sk-toggleable__content {max-height: 200px;max-width: 100%;overflow: auto;}#sk-container-id-1 input.sk-toggleable__control:checked~label.sk-toggleable__label-arrow:before {content: \"▾\";}#sk-container-id-1 div.sk-estimator input.sk-toggleable__control:checked~label.sk-toggleable__label {background-color: #d4ebff;}#sk-container-id-1 div.sk-label input.sk-toggleable__control:checked~label.sk-toggleable__label {background-color: #d4ebff;}#sk-container-id-1 input.sk-hidden--visually {border: 0;clip: rect(1px 1px 1px 1px);clip: rect(1px, 1px, 1px, 1px);height: 1px;margin: -1px;overflow: hidden;padding: 0;position: absolute;width: 1px;}#sk-container-id-1 div.sk-estimator {font-family: monospace;background-color: #f0f8ff;border: 1px dotted black;border-radius: 0.25em;box-sizing: border-box;margin-bottom: 0.5em;}#sk-container-id-1 div.sk-estimator:hover {background-color: #d4ebff;}#sk-container-id-1 div.sk-parallel-item::after {content: \"\";width: 100%;border-bottom: 1px solid gray;flex-grow: 1;}#sk-container-id-1 div.sk-label:hover label.sk-toggleable__label {background-color: #d4ebff;}#sk-container-id-1 div.sk-serial::before {content: \"\";position: absolute;border-left: 1px solid gray;box-sizing: border-box;top: 0;bottom: 0;left: 50%;z-index: 0;}#sk-container-id-1 div.sk-serial {display: flex;flex-direction: column;align-items: center;background-color: white;padding-right: 0.2em;padding-left: 0.2em;position: relative;}#sk-container-id-1 div.sk-item {position: relative;z-index: 1;}#sk-container-id-1 div.sk-parallel {display: flex;align-items: stretch;justify-content: center;background-color: white;position: relative;}#sk-container-id-1 div.sk-item::before, #sk-container-id-1 div.sk-parallel-item::before {content: \"\";position: absolute;border-left: 1px solid gray;box-sizing: border-box;top: 0;bottom: 0;left: 50%;z-index: -1;}#sk-container-id-1 div.sk-parallel-item {display: flex;flex-direction: column;z-index: 1;position: relative;background-color: white;}#sk-container-id-1 div.sk-parallel-item:first-child::after {align-self: flex-end;width: 50%;}#sk-container-id-1 div.sk-parallel-item:last-child::after {align-self: flex-start;width: 50%;}#sk-container-id-1 div.sk-parallel-item:only-child::after {width: 0;}#sk-container-id-1 div.sk-dashed-wrapped {border: 1px dashed gray;margin: 0 0.4em 0.5em 0.4em;box-sizing: border-box;padding-bottom: 0.4em;background-color: white;}#sk-container-id-1 div.sk-label label {font-family: monospace;font-weight: bold;display: inline-block;line-height: 1.2em;}#sk-container-id-1 div.sk-label-container {text-align: center;}#sk-container-id-1 div.sk-container {/* jupyter's `normalize.less` sets `[hidden] { display: none; }` but bootstrap.min.css set `[hidden] { display: none !important; }` so we also need the `!important` here to be able to override the default hidden behavior on the sphinx rendered scikit-learn.org. See: https://github.com/scikit-learn/scikit-learn/issues/21755 */display: inline-block !important;position: relative;}#sk-container-id-1 div.sk-text-repr-fallback {display: none;}</style><div id=\"sk-container-id-1\" class=\"sk-top-container\"><div class=\"sk-text-repr-fallback\"><pre>LogisticRegression(random_state=0)</pre><b>In a Jupyter environment, please rerun this cell to show the HTML representation or trust the notebook. <br />On GitHub, the HTML representation is unable to render, please try loading this page with nbviewer.org.</b></div><div class=\"sk-container\" hidden><div class=\"sk-item\"><div class=\"sk-estimator sk-toggleable\"><input class=\"sk-toggleable__control sk-hidden--visually\" id=\"sk-estimator-id-1\" type=\"checkbox\" checked><label for=\"sk-estimator-id-1\" class=\"sk-toggleable__label sk-toggleable__label-arrow\">LogisticRegression</label><div class=\"sk-toggleable__content\"><pre>LogisticRegression(random_state=0)</pre></div></div></div></div></div>"
      ],
      "text/plain": [
       "LogisticRegression(random_state=0)"
      ]
     },
     "execution_count": 44,
     "metadata": {},
     "output_type": "execute_result"
    }
   ],
   "source": [
    "clf.fit(binary_x_train, binary_y_train)"
   ]
  },
  {
   "cell_type": "code",
   "execution_count": 45,
   "id": "5d424566-f3ac-4384-8548-42c866a10ae1",
   "metadata": {
    "tags": []
   },
   "outputs": [
    {
     "data": {
      "text/plain": [
       "array([[ 0.00000000e+00,  0.00000000e+00,  0.00000000e+00,\n",
       "         0.00000000e+00,  0.00000000e+00,  0.00000000e+00,\n",
       "         0.00000000e+00,  0.00000000e+00,  0.00000000e+00,\n",
       "         0.00000000e+00,  0.00000000e+00,  0.00000000e+00,\n",
       "         2.58693993e-06,  5.66450640e-06,  0.00000000e+00,\n",
       "         0.00000000e+00,  0.00000000e+00,  0.00000000e+00,\n",
       "         0.00000000e+00,  0.00000000e+00,  0.00000000e+00,\n",
       "         0.00000000e+00,  0.00000000e+00,  0.00000000e+00,\n",
       "         0.00000000e+00,  0.00000000e+00,  0.00000000e+00,\n",
       "         0.00000000e+00,  0.00000000e+00,  0.00000000e+00,\n",
       "         0.00000000e+00,  0.00000000e+00,  3.08027002e-07,\n",
       "         9.04829317e-07,  5.71077946e-06,  2.21282779e-05,\n",
       "         5.84977045e-05,  3.46424155e-04,  2.65675471e-03,\n",
       "         9.18936834e-04,  1.43735267e-03,  4.66481975e-04,\n",
       "         6.87754625e-04,  1.41291164e-03,  3.19660865e-03,\n",
       "         1.71671821e-03,  2.71481193e-04,  2.82835409e-04,\n",
       "         1.65202248e-04,  5.75298270e-05,  3.40249185e-05,\n",
       "         5.00871138e-06,  0.00000000e+00,  0.00000000e+00,\n",
       "         0.00000000e+00,  0.00000000e+00,  0.00000000e+00,\n",
       "         0.00000000e+00,  0.00000000e+00,  0.00000000e+00,\n",
       "         8.47648750e-06,  7.89933972e-04,  1.29908923e-02,\n",
       "         1.30646404e-02,  9.65849380e-03,  1.25468779e-02,\n",
       "         8.97084792e-03,  2.19631026e-02,  1.85628972e-02,\n",
       "         1.64334519e-02,  4.45668676e-02,  4.15813553e-02,\n",
       "         3.44067858e-02,  3.25850457e-02,  2.18090378e-02,\n",
       "         1.04250729e-02,  1.17591180e-02,  3.01652899e-03,\n",
       "         1.80965249e-03,  2.16073236e-04,  6.28098826e-05,\n",
       "         4.37778814e-06,  0.00000000e+00,  0.00000000e+00,\n",
       "         0.00000000e+00,  0.00000000e+00,  0.00000000e+00,\n",
       "         1.25254658e-06,  2.06465603e-06,  4.59620616e-03,\n",
       "         1.71568582e-02,  3.14246914e-02,  4.17124910e-02,\n",
       "         3.24320713e-02,  2.28831460e-02,  4.13041380e-02,\n",
       "         1.77146923e-02,  2.30743455e-02,  5.19920705e-03,\n",
       "         1.53402489e-02, -1.89009794e-02, -1.97155606e-02,\n",
       "         2.47077600e-02,  1.75572048e-02, -1.66192934e-02,\n",
       "        -8.82784996e-04,  3.22713363e-03,  5.20923552e-03,\n",
       "         1.14165065e-03, -6.59205666e-04,  2.44320530e-06,\n",
       "         0.00000000e+00,  0.00000000e+00,  0.00000000e+00,\n",
       "         3.08630043e-07, -1.01518560e-05,  1.86391780e-03,\n",
       "         8.01680799e-03,  2.13357484e-02,  3.65673335e-02,\n",
       "         1.14619348e-02, -4.72882299e-03,  4.06311812e-02,\n",
       "         3.27736215e-03,  2.94952331e-02, -2.59280393e-03,\n",
       "         4.11311463e-03, -2.51618363e-03,  1.15004156e-02,\n",
       "        -1.89947337e-02, -4.04119474e-03, -2.19027786e-02,\n",
       "         1.50528828e-02,  4.25112548e-02,  1.97078133e-02,\n",
       "         3.70389076e-02,  1.14143698e-02,  1.63664465e-03,\n",
       "         8.56331214e-04,  8.55987954e-04,  0.00000000e+00,\n",
       "         0.00000000e+00,  5.44065617e-06, -2.16415562e-05,\n",
       "         9.62279333e-03,  1.68287051e-02,  1.17099852e-02,\n",
       "         2.61864604e-02, -1.47575806e-03, -4.24111740e-03,\n",
       "        -3.78676296e-02, -2.60914999e-02, -4.14827175e-02,\n",
       "        -1.76592719e-02,  1.78839188e-02, -2.05993039e-02,\n",
       "         8.92549915e-03,  1.69579905e-02,  1.47768061e-02,\n",
       "         3.09678644e-02,  1.54140605e-02,  7.08578915e-03,\n",
       "         5.35582601e-03,  3.93047090e-02,  5.55744291e-02,\n",
       "         3.39272511e-03,  2.88773201e-03,  1.26360127e-03,\n",
       "         0.00000000e+00,  0.00000000e+00,  4.13130736e-06,\n",
       "         1.25511913e-06,  1.33232047e-02,  1.42490354e-02,\n",
       "        -2.24904736e-03,  1.84709909e-02, -8.21745231e-03,\n",
       "         2.95808984e-04, -7.59640261e-03, -2.24436803e-02,\n",
       "         1.05666768e-02, -1.69738316e-02, -1.64386517e-02,\n",
       "         3.66102954e-04, -3.29914921e-02, -2.85870654e-02,\n",
       "        -5.15987815e-02, -3.73404085e-02,  1.42293502e-02,\n",
       "        -6.08681901e-02, -2.07034636e-02,  9.13796451e-03,\n",
       "         4.88054365e-02,  7.70659097e-03,  2.99514094e-05,\n",
       "        -4.57700592e-05,  0.00000000e+00,  0.00000000e+00,\n",
       "         0.00000000e+00, -3.39118216e-05,  1.45606368e-02,\n",
       "         1.42128107e-02, -3.73430974e-03,  8.12772457e-03,\n",
       "        -3.46342282e-02, -1.66949640e-02,  1.54538705e-02,\n",
       "         1.18401057e-02, -4.26409695e-02, -2.80503717e-02,\n",
       "        -9.67701701e-03,  1.46095705e-02,  1.38157917e-02,\n",
       "        -3.94026150e-02,  2.57345704e-02, -2.17719933e-02,\n",
       "        -1.31351542e-02, -1.70577629e-02, -3.63572770e-02,\n",
       "        -3.80089459e-02,  4.09813328e-03,  1.35817040e-03,\n",
       "         3.30936642e-05, -1.34290454e-04, -8.87387266e-05,\n",
       "         0.00000000e+00, -6.73936700e-06, -1.12370727e-04,\n",
       "         1.64071133e-02,  1.93255883e-02, -2.64540622e-02,\n",
       "         8.70600252e-03, -1.81860056e-02,  1.25270544e-02,\n",
       "        -4.33802836e-02, -4.43378952e-03, -8.02483950e-03,\n",
       "        -1.08802049e-02, -5.01917170e-02,  5.70621365e-03,\n",
       "        -4.72813323e-02, -6.12950154e-02, -5.03074920e-02,\n",
       "        -5.35536122e-02, -4.81464136e-02, -2.25542521e-02,\n",
       "        -2.86536241e-02, -2.67998965e-02, -3.60611925e-02,\n",
       "        -2.93333711e-03,  1.50449130e-05,  0.00000000e+00,\n",
       "         0.00000000e+00,  0.00000000e+00, -2.83764053e-03,\n",
       "        -9.25759829e-04,  1.54803722e-02,  2.06636770e-03,\n",
       "        -2.96765906e-02,  5.12304745e-02,  1.23197255e-02,\n",
       "         9.62414176e-03, -2.34120409e-02,  1.84313035e-02,\n",
       "         1.83691357e-02,  1.33392844e-02, -2.10784051e-02,\n",
       "        -3.51650646e-02, -3.01823543e-02, -5.22842474e-02,\n",
       "        -4.45455534e-03, -1.45173407e-02, -1.60990901e-02,\n",
       "        -8.65401632e-03, -1.57426026e-02,  6.12808446e-04,\n",
       "        -2.54176716e-02, -1.38897890e-03,  9.68732098e-06,\n",
       "         0.00000000e+00,  0.00000000e+00,  0.00000000e+00,\n",
       "        -1.45943599e-02, -1.29171312e-02, -2.46273522e-03,\n",
       "        -2.91314041e-02, -2.56397678e-02,  1.23666251e-02,\n",
       "        -4.05143562e-03,  5.05584675e-03,  1.47186574e-02,\n",
       "        -5.22834927e-02,  3.47145692e-02, -1.21129000e-02,\n",
       "        -1.60469223e-02, -4.09242093e-02, -6.49959632e-02,\n",
       "        -5.38433414e-02,  1.43250487e-02, -6.01476902e-03,\n",
       "        -2.11071948e-03, -5.79302515e-03, -9.48519830e-02,\n",
       "        -7.50337344e-04,  1.49664843e-03,  7.04248056e-03,\n",
       "         9.68732098e-06,  0.00000000e+00,  0.00000000e+00,\n",
       "        -5.18863678e-05,  0.00000000e+00,  1.48915883e-06,\n",
       "         1.11752494e-02,  1.02351591e-02,  4.99002979e-03,\n",
       "         1.35760957e-02, -2.56413539e-02,  2.43362738e-02,\n",
       "        -1.16039631e-02, -4.54161030e-02,  2.29764949e-02,\n",
       "         4.93961542e-02,  2.55307222e-02,  1.07213016e-02,\n",
       "         2.12233701e-02, -2.92404698e-02, -1.23689927e-02,\n",
       "         4.29113667e-02, -6.18047315e-02, -1.30206904e-02,\n",
       "        -3.17053500e-02, -4.70706575e-02,  3.36801809e-02,\n",
       "         1.49488245e-02, -2.27287401e-05,  9.23537551e-06,\n",
       "         0.00000000e+00, -7.88143988e-06, -1.87528375e-06,\n",
       "         1.48915883e-06,  5.61024541e-03,  3.32126193e-03,\n",
       "        -1.55494403e-02, -2.13152779e-02,  2.08934606e-02,\n",
       "         5.72337411e-03, -3.88190108e-03,  1.12911821e-02,\n",
       "        -3.86192786e-02,  1.94682415e-02,  1.01495299e-02,\n",
       "         6.41262416e-03,  3.35653058e-02, -1.29663948e-02,\n",
       "        -2.41694932e-02, -2.48700886e-02, -4.32132038e-02,\n",
       "        -2.87944235e-03,  2.44314716e-02, -6.41365611e-03,\n",
       "         2.58021387e-02,  1.98034506e-02, -7.15329711e-06,\n",
       "         1.07158556e-05,  0.00000000e+00, -3.10331695e-05,\n",
       "        -5.72982463e-06, -5.70325870e-06, -1.65679749e-02,\n",
       "         1.78640528e-03,  9.48241617e-03, -2.00457933e-02,\n",
       "         2.11981568e-02,  4.57100399e-02,  2.64847092e-02,\n",
       "         2.48749212e-03, -2.03719035e-02,  6.90062736e-02,\n",
       "         5.68226751e-02, -5.10752687e-02,  1.42177521e-02,\n",
       "        -2.09050086e-02, -1.11166340e-02, -1.87807234e-02,\n",
       "         2.08370905e-02,  2.37165509e-03, -3.87326870e-03,\n",
       "         3.11553056e-02,  2.36139599e-02,  1.87198012e-02,\n",
       "         1.73214148e-05,  2.89046104e-06,  0.00000000e+00,\n",
       "         0.00000000e+00,  0.00000000e+00, -5.64551133e-06,\n",
       "        -1.07842695e-02,  1.22178199e-02,  1.50755880e-02,\n",
       "        -2.02115839e-02,  2.58293041e-02,  2.76867298e-02,\n",
       "         3.20936711e-02,  2.36047536e-02,  1.24006915e-02,\n",
       "         4.46524486e-02,  4.65670615e-02, -1.75792249e-02,\n",
       "         6.57530750e-02,  9.82753090e-03,  9.95438189e-04,\n",
       "        -2.91052932e-02, -2.61006298e-02, -2.31279351e-04,\n",
       "        -3.74589441e-03, -2.85725702e-02, -3.80913541e-02,\n",
       "         2.68141982e-02,  9.19895466e-06,  0.00000000e+00,\n",
       "         0.00000000e+00,  0.00000000e+00,  0.00000000e+00,\n",
       "        -2.01727700e-05, -1.34767859e-02, -9.45785550e-04,\n",
       "         2.89115891e-02,  2.01790833e-03, -3.32699102e-02,\n",
       "        -4.56435422e-02, -2.40486854e-02,  2.57120483e-02,\n",
       "        -5.08979354e-03,  4.08077762e-02,  2.29576824e-02,\n",
       "        -2.16144736e-03,  1.91846379e-02,  4.05247280e-02,\n",
       "        -5.76604861e-02, -8.39606712e-03,  1.68310512e-02,\n",
       "         3.29089542e-02, -1.60015127e-02, -2.05502456e-02,\n",
       "        -4.27276382e-02,  3.55821447e-02,  1.01494761e-05,\n",
       "         0.00000000e+00,  0.00000000e+00,  0.00000000e+00,\n",
       "         0.00000000e+00, -1.75005609e-05, -1.78932834e-02,\n",
       "        -7.97773377e-03,  2.59626767e-04,  3.18200575e-02,\n",
       "         1.77803008e-03, -4.39339297e-03,  8.59690743e-03,\n",
       "         2.46807367e-02, -3.08569531e-02,  2.75259015e-02,\n",
       "         4.30131823e-02, -6.32237294e-03,  1.36476496e-02,\n",
       "        -1.03490079e-03, -1.59229170e-04, -2.66492249e-03,\n",
       "        -7.48838424e-03, -5.22854570e-03,  4.71930233e-03,\n",
       "         2.31965987e-02, -2.06837430e-02,  3.04331531e-02,\n",
       "         8.33080299e-06, -1.53697701e-03,  0.00000000e+00,\n",
       "         0.00000000e+00,  0.00000000e+00, -1.96650544e-05,\n",
       "        -4.00249277e-03,  7.68694667e-03, -3.45470758e-02,\n",
       "         8.41955358e-03,  9.18295344e-03,  1.32336985e-03,\n",
       "         2.57330632e-02,  1.27463106e-02,  2.33828121e-02,\n",
       "         1.48477093e-02,  2.19382121e-02,  3.29048654e-02,\n",
       "         7.58731177e-03, -4.36444888e-02,  3.67366226e-02,\n",
       "         5.18668586e-03, -1.39548669e-02, -2.73008990e-02,\n",
       "         2.29799348e-02,  7.14928381e-03, -1.29535719e-02,\n",
       "         1.61809926e-02,  2.47714745e-06, -1.33204674e-02,\n",
       "         0.00000000e+00,  0.00000000e+00,  0.00000000e+00,\n",
       "        -2.45395804e-05,  4.65409676e-03, -7.87609502e-04,\n",
       "        -1.71508825e-03,  6.48469279e-03, -2.67758607e-02,\n",
       "         3.44030961e-02, -4.47692681e-02, -2.78690870e-02,\n",
       "         6.97977335e-03,  7.82581015e-02,  4.82439329e-02,\n",
       "        -1.46198097e-02,  1.80788995e-02,  5.67508539e-03,\n",
       "         4.51393371e-03,  4.50105155e-02, -8.69814636e-03,\n",
       "         1.03977420e-02, -1.55572206e-02, -1.03789296e-02,\n",
       "         5.66406021e-03, -2.05486448e-03,  7.36988840e-05,\n",
       "         0.00000000e+00,  0.00000000e+00, -5.24675822e-05,\n",
       "        -5.14585902e-05, -8.38991359e-05,  9.73925540e-03,\n",
       "         1.01356084e-02,  2.46172933e-02,  2.49744597e-03,\n",
       "        -1.76498437e-02,  3.41712625e-02,  2.67948175e-02,\n",
       "         5.82454099e-02, -2.90878905e-02, -1.48742101e-02,\n",
       "        -7.27239871e-03,  2.60208914e-03,  7.84414392e-03,\n",
       "         5.00603087e-02, -7.85736833e-02,  3.50521491e-02,\n",
       "         4.71724077e-03, -2.49262533e-03,  2.17605533e-02,\n",
       "         2.79741447e-02, -6.21312108e-03, -2.90938124e-03,\n",
       "         1.43621830e-05,  0.00000000e+00,  0.00000000e+00,\n",
       "        -1.32177947e-04, -9.15906393e-05, -7.66635189e-05,\n",
       "         1.45451792e-02,  8.43850739e-03,  5.02879018e-03,\n",
       "         2.43098005e-02, -2.05460343e-02,  2.90505169e-02,\n",
       "        -2.20905594e-04, -1.11203504e-02,  1.39237210e-02,\n",
       "         1.69567882e-03,  3.68058847e-02,  1.21308790e-02,\n",
       "         3.56432262e-03,  3.21498743e-02, -1.02719218e-02,\n",
       "         4.92195556e-03, -4.59678414e-03, -1.67852810e-02,\n",
       "         2.02571173e-02, -1.40793319e-02, -8.63884304e-03,\n",
       "         4.52986404e-04, -1.64579160e-05,  0.00000000e+00,\n",
       "         0.00000000e+00,  0.00000000e+00, -1.16393713e-04,\n",
       "        -5.74347385e-05, -1.02552548e-03, -2.02936938e-02,\n",
       "        -1.55729399e-02,  2.59767233e-02,  3.51297750e-02,\n",
       "         1.25543363e-02,  3.21405826e-02,  9.59580129e-03,\n",
       "        -1.65182349e-02, -1.09184886e-02,  5.56408171e-02,\n",
       "        -3.36215747e-02,  1.37099264e-02,  3.80116861e-02,\n",
       "         2.95492446e-02,  5.40845972e-02,  2.32611860e-02,\n",
       "         7.22361919e-03, -9.48601553e-03, -2.28402093e-02,\n",
       "        -3.74150016e-03,  4.06744581e-06, -3.03429247e-04,\n",
       "        -7.48621702e-07,  0.00000000e+00,  0.00000000e+00,\n",
       "         0.00000000e+00, -5.64952940e-05, -5.26462044e-04,\n",
       "        -8.00575404e-03, -3.91070530e-02,  2.60483455e-03,\n",
       "        -2.46610193e-02,  6.88757577e-03, -1.65859357e-02,\n",
       "         3.94888947e-02, -5.77768452e-02,  1.21328172e-02,\n",
       "         1.64360149e-02, -1.82101925e-02, -1.71773227e-02,\n",
       "        -1.70914584e-02,  4.86005239e-03,  4.72622936e-03,\n",
       "         4.36133778e-03,  2.16563209e-02, -1.64594083e-02,\n",
       "        -1.29364707e-02, -1.64250753e-03, -2.31377138e-04,\n",
       "        -4.67365580e-05, -1.38207083e-06,  0.00000000e+00,\n",
       "         0.00000000e+00,  0.00000000e+00,  0.00000000e+00,\n",
       "        -8.90626728e-05, -1.65106939e-03, -9.64860784e-03,\n",
       "         4.82147385e-04,  1.27387584e-02,  5.35719450e-03,\n",
       "        -4.52370409e-02, -1.68701623e-02, -3.02008495e-02,\n",
       "         1.65160056e-02,  1.12727267e-02,  7.33212034e-03,\n",
       "         5.38215640e-03, -2.69701589e-02,  4.87555090e-02,\n",
       "         3.50697510e-02,  1.55635508e-02,  5.29364648e-03,\n",
       "        -6.43644673e-03, -2.19915299e-03, -1.53663133e-03,\n",
       "        -2.74008522e-04,  0.00000000e+00,  0.00000000e+00,\n",
       "         0.00000000e+00,  0.00000000e+00,  0.00000000e+00,\n",
       "         0.00000000e+00, -1.82562828e-05, -7.36953966e-05,\n",
       "        -2.65887511e-04, -5.94047609e-04, -2.57258292e-03,\n",
       "        -1.27764808e-02, -1.88130730e-02,  1.98070237e-02,\n",
       "         2.75510478e-02,  2.74136457e-02, -1.82196538e-02,\n",
       "        -2.36853937e-02,  2.45763040e-02,  3.29003058e-02,\n",
       "         1.91328489e-02,  5.11291454e-03,  2.43695491e-03,\n",
       "        -2.12295532e-04, -8.71885447e-05, -1.31420945e-05,\n",
       "        -4.61240661e-06, -1.34281481e-06,  0.00000000e+00,\n",
       "         0.00000000e+00,  0.00000000e+00,  0.00000000e+00,\n",
       "         0.00000000e+00,  0.00000000e+00,  0.00000000e+00,\n",
       "         0.00000000e+00, -8.04440112e-07, -6.15663619e-06,\n",
       "        -2.03051628e-05, -3.70645751e-05, -6.20082878e-05,\n",
       "        -1.77433856e-04,  1.49653726e-04, -2.64121727e-05,\n",
       "        -3.31713181e-05, -2.27887482e-05, -1.79013465e-05,\n",
       "        -6.10362805e-06, -1.12621616e-06,  0.00000000e+00,\n",
       "         0.00000000e+00,  0.00000000e+00,  0.00000000e+00,\n",
       "         0.00000000e+00,  0.00000000e+00,  0.00000000e+00,\n",
       "         0.00000000e+00,  0.00000000e+00,  0.00000000e+00,\n",
       "         0.00000000e+00,  0.00000000e+00,  0.00000000e+00,\n",
       "         0.00000000e+00,  0.00000000e+00,  0.00000000e+00,\n",
       "         0.00000000e+00,  0.00000000e+00,  0.00000000e+00,\n",
       "         0.00000000e+00,  0.00000000e+00,  0.00000000e+00,\n",
       "         0.00000000e+00,  0.00000000e+00,  0.00000000e+00,\n",
       "         0.00000000e+00,  0.00000000e+00,  0.00000000e+00,\n",
       "         0.00000000e+00,  0.00000000e+00,  0.00000000e+00,\n",
       "         0.00000000e+00,  0.00000000e+00,  0.00000000e+00,\n",
       "         0.00000000e+00,  0.00000000e+00,  0.00000000e+00,\n",
       "         0.00000000e+00,  0.00000000e+00,  0.00000000e+00,\n",
       "         0.00000000e+00,  0.00000000e+00,  0.00000000e+00,\n",
       "         0.00000000e+00,  0.00000000e+00,  0.00000000e+00,\n",
       "         0.00000000e+00,  0.00000000e+00,  0.00000000e+00,\n",
       "         0.00000000e+00,  0.00000000e+00,  0.00000000e+00,\n",
       "         0.00000000e+00,  0.00000000e+00,  0.00000000e+00,\n",
       "         0.00000000e+00,  0.00000000e+00,  0.00000000e+00,\n",
       "         0.00000000e+00,  0.00000000e+00,  0.00000000e+00,\n",
       "         0.00000000e+00,  0.00000000e+00,  0.00000000e+00,\n",
       "         0.00000000e+00]])"
      ]
     },
     "execution_count": 45,
     "metadata": {},
     "output_type": "execute_result"
    }
   ],
   "source": [
    "clf.coef_"
   ]
  },
  {
   "cell_type": "code",
   "execution_count": 46,
   "id": "9cca6b76-7b33-49b4-881a-17ca27115181",
   "metadata": {
    "tags": []
   },
   "outputs": [
    {
     "data": {
      "text/plain": [
       "array([0.00074224])"
      ]
     },
     "execution_count": 46,
     "metadata": {},
     "output_type": "execute_result"
    }
   ],
   "source": [
    "clf.intercept_"
   ]
  },
  {
   "cell_type": "code",
   "execution_count": 47,
   "id": "faa3f9c6-27e1-486d-8bca-114975d65581",
   "metadata": {
    "tags": []
   },
   "outputs": [
    {
     "data": {
      "text/plain": [
       "1.0"
      ]
     },
     "execution_count": 47,
     "metadata": {},
     "output_type": "execute_result"
    }
   ],
   "source": [
    "clf.score(binary_x_train, binary_y_train)"
   ]
  },
  {
   "cell_type": "code",
   "execution_count": 48,
   "id": "edb0f2ec-c77e-483c-9ab7-665cfaf7ef92",
   "metadata": {
    "tags": []
   },
   "outputs": [
    {
     "data": {
      "text/plain": [
       "1.0"
      ]
     },
     "execution_count": 48,
     "metadata": {},
     "output_type": "execute_result"
    }
   ],
   "source": [
    "clf.score(binary_x_val, binary_y_val)"
   ]
  },
  {
   "cell_type": "code",
   "execution_count": 49,
   "id": "6c86fc27-21d8-4d2c-9b49-96b215591199",
   "metadata": {
    "tags": []
   },
   "outputs": [
    {
     "data": {
      "text/plain": [
       "(1938, 784)"
      ]
     },
     "execution_count": 49,
     "metadata": {},
     "output_type": "execute_result"
    }
   ],
   "source": [
    "binary_x_test.shape"
   ]
  },
  {
   "cell_type": "code",
   "execution_count": 50,
   "id": "1934cdb7-3f64-4d49-be9c-95d63bdf122c",
   "metadata": {
    "tags": []
   },
   "outputs": [
    {
     "data": {
      "text/plain": [
       "(1938,)"
      ]
     },
     "execution_count": 50,
     "metadata": {},
     "output_type": "execute_result"
    }
   ],
   "source": [
    "binary_y_test.shape"
   ]
  },
  {
   "cell_type": "code",
   "execution_count": 51,
   "id": "34499d79-95e1-44a8-aa6c-07a3b114d527",
   "metadata": {
    "tags": []
   },
   "outputs": [
    {
     "data": {
      "text/plain": [
       "0.9829721362229102"
      ]
     },
     "execution_count": 51,
     "metadata": {},
     "output_type": "execute_result"
    }
   ],
   "source": [
    "clf.score(binary_x_test, binary_y_test)"
   ]
  },
  {
   "cell_type": "code",
   "execution_count": 52,
   "id": "8984d1c0-c879-4291-bf23-61c2baa19096",
   "metadata": {
    "tags": []
   },
   "outputs": [],
   "source": [
    "predicated_result = clf.predict(binary_x_test)"
   ]
  },
  {
   "cell_type": "code",
   "execution_count": 53,
   "id": "9fa98608-3222-44c6-ad75-2ae4f71d2c20",
   "metadata": {
    "tags": []
   },
   "outputs": [
    {
     "data": {
      "text/plain": [
       "(array([   1,    5,   30,   93,  147,  170,  199,  255,  326,  402,  514,\n",
       "         552,  583,  625,  699,  813,  830,  889,  980, 1173, 1184, 1192,\n",
       "        1197, 1315, 1476, 1589, 1651, 1721, 1756, 1884, 1897, 1930, 1932]),)"
      ]
     },
     "execution_count": 53,
     "metadata": {},
     "output_type": "execute_result"
    }
   ],
   "source": [
    "np.where(binary_y_test != predicated_result)"
   ]
  },
  {
   "cell_type": "code",
   "execution_count": 77,
   "id": "7b080318-0dfc-4939-92e0-934bef138b10",
   "metadata": {
    "tags": []
   },
   "outputs": [
    {
     "data": {
      "text/plain": [
       "Text(0.5, 1.0, 'Actual Value: 6 ; Predict Value: 0 \\n')"
      ]
     },
     "execution_count": 77,
     "metadata": {},
     "output_type": "execute_result"
    },
    {
     "data": {
      "image/png": "[encoded data removed]",
      "text/plain": [
       "<Figure size 640x480 with 1 Axes>"
      ]
     },
     "metadata": {},
     "output_type": "display_data"
    }
   ],
   "source": [
    "lookup_index = 1721\n",
    "\n",
    "plt.imshow(np.reshape(binary_x_test[lookup_index], (28,28)))\n",
    "plt.title('Actual Value: {} ; Predict Value: {} \\n'.format(binary_y_test[lookup_index], predicated_result[lookup_index]), fontsize = 20)"
   ]
  },
  {
   "cell_type": "code",
   "execution_count": 55,
   "id": "25ef2d18-907a-4193-bc72-3dfa7898baa7",
   "metadata": {
    "tags": []
   },
   "outputs": [],
   "source": [
    "from sklearn import metrics"
   ]
  },
  {
   "cell_type": "code",
   "execution_count": 56,
   "id": "ef8c2704-71a3-4d32-b984-7bb4cb54cbb2",
   "metadata": {
    "tags": []
   },
   "outputs": [
    {
     "data": {
      "text/plain": [
       "0"
      ]
     },
     "execution_count": 56,
     "metadata": {},
     "output_type": "execute_result"
    }
   ],
   "source": [
    "binary_y_test[0]"
   ]
  },
  {
   "cell_type": "code",
   "execution_count": 57,
   "id": "e1b9b427-3874-4063-9bc4-2cffe0e97e98",
   "metadata": {
    "tags": []
   },
   "outputs": [
    {
     "data": {
      "text/plain": [
       "0"
      ]
     },
     "execution_count": 57,
     "metadata": {},
     "output_type": "execute_result"
    }
   ],
   "source": [
    "predicated_result[0]"
   ]
  },
  {
   "cell_type": "code",
   "execution_count": 58,
   "id": "ed9f4fa2-f109-4bc8-8bba-5bb01a2b3537",
   "metadata": {
    "tags": []
   },
   "outputs": [
    {
     "data": {
      "text/plain": [
       "0.9830607706904506"
      ]
     },
     "execution_count": 58,
     "metadata": {},
     "output_type": "execute_result"
    }
   ],
   "source": [
    "metrics.precision_score(binary_y_test, predicated_result, average='macro')"
   ]
  },
  {
   "cell_type": "code",
   "execution_count": 59,
   "id": "adb4f927-977d-4c42-894a-07e4c71cec10",
   "metadata": {
    "tags": []
   },
   "outputs": [
    {
     "data": {
      "text/plain": [
       "0.9873551106427819"
      ]
     },
     "execution_count": 59,
     "metadata": {},
     "output_type": "execute_result"
    }
   ],
   "source": [
    "metrics.precision_score(binary_y_test, predicated_result, pos_label=6)"
   ]
  },
  {
   "cell_type": "code",
   "execution_count": 60,
   "id": "f65b281b-527c-4ddf-91f0-b8ce397ebabe",
   "metadata": {
    "tags": []
   },
   "outputs": [
    {
     "data": {
      "text/plain": [
       "0.9780793319415448"
      ]
     },
     "execution_count": 60,
     "metadata": {},
     "output_type": "execute_result"
    }
   ],
   "source": [
    "metrics.recall_score(binary_y_test, predicated_result, pos_label=6)"
   ]
  },
  {
   "cell_type": "code",
   "execution_count": 61,
   "id": "ae48c48d-e276-45e4-90d6-432186cf08fd",
   "metadata": {
    "tags": []
   },
   "outputs": [],
   "source": [
    "fpr, tpr, threshold = metrics.roc_curve(binary_y_test, predicated_result, pos_label=6)"
   ]
  },
  {
   "cell_type": "code",
   "execution_count": 62,
   "id": "8a23ddd0-fcd4-4c09-9f61-19014ce8805b",
   "metadata": {
    "tags": []
   },
   "outputs": [
    {
     "data": {
      "text/plain": [
       "0.9829172169911805"
      ]
     },
     "execution_count": 62,
     "metadata": {},
     "output_type": "execute_result"
    }
   ],
   "source": [
    "metrics.auc(fpr, tpr)"
   ]
  },
  {
   "cell_type": "code",
   "execution_count": 63,
   "id": "0d9af37c-e3b9-4cab-b3f6-bdb542d59ff3",
   "metadata": {
    "tags": []
   },
   "outputs": [],
   "source": [
    "cm = metrics.confusion_matrix(binary_y_test, predicated_result)"
   ]
  },
  {
   "cell_type": "code",
   "execution_count": 64,
   "id": "e59d581c-80f0-4614-93d8-1e6571d8abaf",
   "metadata": {
    "tags": []
   },
   "outputs": [],
   "source": [
    "import seaborn as sn"
   ]
  },
  {
   "cell_type": "code",
   "execution_count": 65,
   "id": "00233f94-354a-4371-b61e-9ed01dc36417",
   "metadata": {
    "tags": []
   },
   "outputs": [],
   "source": [
    "from sklearn.metrics import confusion_matrix\n",
    "\n",
    "data = confusion_matrix(binary_y_test, predicated_result)"
   ]
  },
  {
   "cell_type": "code",
   "execution_count": 66,
   "id": "f95a169c-a971-4a08-9209-e468a684ebd3",
   "metadata": {
    "tags": []
   },
   "outputs": [],
   "source": [
    "df_cm = pd.DataFrame(data, columns=np.unique(binary_y_test), index = np.unique(binary_y_test))\n",
    "\n",
    "# \n",
    "# \n",
    "# plt.figure(figsize = (10,7))\n",
    "# sn.set(font_scale=1.4)#for label size\n",
    "# sn.heatmap(df_cm, cmap=\"Blues\", annot=True,annot_kws={\"size\": 16})# font size"
   ]
  },
  {
   "cell_type": "code",
   "execution_count": 67,
   "id": "a4afef2e-c13d-4430-a77f-26d7da550fd2",
   "metadata": {
    "tags": []
   },
   "outputs": [],
   "source": [
    "df_cm.index.name = 'Actual'"
   ]
  },
  {
   "cell_type": "code",
   "execution_count": 68,
   "id": "95165efa-5d75-48ab-ad7c-6781459152ef",
   "metadata": {
    "tags": []
   },
   "outputs": [],
   "source": [
    "df_cm.columns.name = 'Predicted'"
   ]
  },
  {
   "cell_type": "code",
   "execution_count": 69,
   "id": "178a57a7-c741-4395-a8cf-55b89341120d",
   "metadata": {
    "tags": []
   },
   "outputs": [
    {
     "data": {
      "text/plain": [
       "<Axes: xlabel='Predicted', ylabel='Actual'>"
      ]
     },
     "execution_count": 69,
     "metadata": {},
     "output_type": "execute_result"
    },
    {
     "data": {
      "image/png": "[encoded data removed]",
      "text/plain": [
       "<Figure size 1000x1000 with 2 Axes>"
      ]
     },
     "metadata": {},
     "output_type": "display_data"
    }
   ],
   "source": [
    "plt.figure(figsize=(10, 10))\n",
    "sn.heatmap(df_cm, cmap='Blues', annot=True, annot_kws={\"size\": 16})"
   ]
  },
  {
   "cell_type": "code",
   "execution_count": null,
   "id": "7d45cff7-7704-4aca-b03a-22317ce1ed72",
   "metadata": {},
   "outputs": [],
   "source": []
  }
 ],
 "metadata": {
  "kernelspec": {
   "display_name": "Python 3 (ipykernel)",
   "language": "python",
   "name": "python3"
  },
  "language_info": {
   "codemirror_mode": {
    "name": "ipython",
    "version": 3
   },
   "file_extension": ".py",
   "mimetype": "text/x-python",
   "name": "python",
   "nbconvert_exporter": "python",
   "pygments_lexer": "ipython3",
   "version": "3.10.12"
  }
 },
 "nbformat": 4,
 "nbformat_minor": 5
}
