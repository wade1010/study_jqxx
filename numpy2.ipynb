{
 "cells": [
  {
   "cell_type": "code",
   "execution_count": 1,
   "id": "f18c39d8-8628-4b07-bc3b-c3107d3a4c50",
   "metadata": {},
   "outputs": [],
   "source": [
    "import numpy as np"
   ]
  },
  {
   "cell_type": "code",
   "execution_count": 2,
   "id": "685428e6-76f9-4b31-9d39-a06dc114199a",
   "metadata": {},
   "outputs": [],
   "source": [
    "score = np.random.randint(40,100,(10,5))"
   ]
  },
  {
   "cell_type": "code",
   "execution_count": 3,
   "id": "96bade4a-316c-4ded-850f-115a18290bf9",
   "metadata": {},
   "outputs": [
    {
     "data": {
      "text/plain": [
       "array([[40, 42, 46, 57, 87],\n",
       "       [46, 91, 78, 62, 97],\n",
       "       [84, 44, 48, 57, 46],\n",
       "       [94, 81, 57, 65, 69],\n",
       "       [50, 99, 70, 96, 79],\n",
       "       [63, 92, 60, 49, 70],\n",
       "       [75, 45, 68, 54, 42],\n",
       "       [80, 68, 57, 71, 62],\n",
       "       [99, 81, 71, 67, 76],\n",
       "       [90, 49, 97, 86, 84]])"
      ]
     },
     "execution_count": 3,
     "metadata": {},
     "output_type": "execute_result"
    }
   ],
   "source": [
    "score"
   ]
  },
  {
   "cell_type": "code",
   "execution_count": 4,
   "id": "d90c3ded-25e4-4426-ad4f-0655244378dc",
   "metadata": {},
   "outputs": [],
   "source": [
    "test_score = score[6:,0:5]"
   ]
  },
  {
   "cell_type": "code",
   "execution_count": 5,
   "id": "6209213f-86c9-4f5c-8c87-eaf052db2e41",
   "metadata": {},
   "outputs": [
    {
     "data": {
      "text/plain": [
       "array([[75, 45, 68, 54, 42],\n",
       "       [80, 68, 57, 71, 62],\n",
       "       [99, 81, 71, 67, 76],\n",
       "       [90, 49, 97, 86, 84]])"
      ]
     },
     "execution_count": 5,
     "metadata": {},
     "output_type": "execute_result"
    }
   ],
   "source": [
    "test_score"
   ]
  },
  {
   "cell_type": "code",
   "execution_count": 6,
   "id": "dc8b1376-9bae-46a3-9fb4-814f8882c4ae",
   "metadata": {},
   "outputs": [],
   "source": [
    "test_score[test_score>60]=1"
   ]
  },
  {
   "cell_type": "code",
   "execution_count": 7,
   "id": "bfc1ef1a-0cc4-4446-a45e-fa2db066a286",
   "metadata": {},
   "outputs": [
    {
     "data": {
      "text/plain": [
       "array([[ 1, 45,  1, 54, 42],\n",
       "       [ 1,  1, 57,  1,  1],\n",
       "       [ 1,  1,  1,  1,  1],\n",
       "       [ 1, 49,  1,  1,  1]])"
      ]
     },
     "execution_count": 7,
     "metadata": {},
     "output_type": "execute_result"
    }
   ],
   "source": [
    "test_score"
   ]
  },
  {
   "cell_type": "code",
   "execution_count": 8,
   "id": "6e57b76e-161b-4900-a01a-d7704bfc2d7e",
   "metadata": {},
   "outputs": [
    {
     "data": {
      "text/plain": [
       "False"
      ]
     },
     "execution_count": 8,
     "metadata": {},
     "output_type": "execute_result"
    }
   ],
   "source": [
    "# 判断前两名同学的成绩是否全及格\n",
    "np.all(score[:2,:]>60)"
   ]
  },
  {
   "cell_type": "code",
   "execution_count": 9,
   "id": "9845a8bd-609e-478d-95bb-35682f1b7957",
   "metadata": {},
   "outputs": [
    {
     "data": {
      "text/plain": [
       "True"
      ]
     },
     "execution_count": 9,
     "metadata": {},
     "output_type": "execute_result"
    }
   ],
   "source": [
    "# 判断前两名同学的成绩是否有大于90分的\n",
    "np.any(score[:2,:]>90)"
   ]
  },
  {
   "cell_type": "code",
   "execution_count": 10,
   "id": "215e5cba-d115-4a0b-9516-fea4a1fc2cae",
   "metadata": {},
   "outputs": [
    {
     "data": {
      "text/plain": [
       "array([[0, 0, 0, 0],\n",
       "       [0, 1, 1, 1],\n",
       "       [1, 0, 0, 0],\n",
       "       [1, 1, 0, 1]])"
      ]
     },
     "execution_count": 10,
     "metadata": {},
     "output_type": "execute_result"
    }
   ],
   "source": [
    "temp = score[:4, :4]\n",
    "np.where(temp > 60, 1, 0)"
   ]
  },
  {
   "cell_type": "markdown",
   "id": "e59ee272-fe95-4cc3-ab44-007438749e16",
   "metadata": {},
   "source": [
    "# 统计运算"
   ]
  },
  {
   "cell_type": "code",
   "execution_count": 12,
   "id": "ea7b1e01-b66b-4889-bb37-0a14ecdf7efc",
   "metadata": {},
   "outputs": [],
   "source": [
    "temp =score[:4,:]"
   ]
  },
  {
   "cell_type": "code",
   "execution_count": 13,
   "id": "6fc06cb1-e0a5-4f3f-8057-3077187436fe",
   "metadata": {},
   "outputs": [
    {
     "data": {
      "text/plain": [
       "array([[40, 42, 46, 57, 87],\n",
       "       [46, 91, 78, 62, 97],\n",
       "       [84, 44, 48, 57, 46],\n",
       "       [94, 81, 57, 65, 69]])"
      ]
     },
     "execution_count": 13,
     "metadata": {},
     "output_type": "execute_result"
    }
   ],
   "source": [
    "temp"
   ]
  },
  {
   "cell_type": "code",
   "execution_count": 14,
   "id": "9b4664e9-c221-42bd-83c5-4482a754e1df",
   "metadata": {},
   "outputs": [
    {
     "data": {
      "text/plain": [
       "97"
      ]
     },
     "execution_count": 14,
     "metadata": {},
     "output_type": "execute_result"
    }
   ],
   "source": [
    "np.max(temp)"
   ]
  },
  {
   "cell_type": "code",
   "execution_count": 15,
   "id": "503a7010-fe24-4294-889b-930816c7a997",
   "metadata": {},
   "outputs": [
    {
     "data": {
      "text/plain": [
       "array([94, 91, 78, 65, 97])"
      ]
     },
     "execution_count": 15,
     "metadata": {},
     "output_type": "execute_result"
    }
   ],
   "source": [
    "np.max(temp,axis=0)"
   ]
  },
  {
   "cell_type": "code",
   "execution_count": 18,
   "id": "872947d9-856a-412c-bfc9-f10fe45e7072",
   "metadata": {},
   "outputs": [
    {
     "data": {
      "text/plain": [
       "array([87, 97, 84, 94])"
      ]
     },
     "execution_count": 18,
     "metadata": {},
     "output_type": "execute_result"
    }
   ],
   "source": [
    "np.max(temp,axis=1)"
   ]
  },
  {
   "cell_type": "code",
   "execution_count": 16,
   "id": "ee142d12-7228-4f82-9dfa-c3380bf36645",
   "metadata": {},
   "outputs": [
    {
     "data": {
      "text/plain": [
       "64.55"
      ]
     },
     "execution_count": 16,
     "metadata": {},
     "output_type": "execute_result"
    }
   ],
   "source": [
    "np.mean(temp)"
   ]
  },
  {
   "cell_type": "code",
   "execution_count": 17,
   "id": "b7b94c37-067b-4b0b-9814-ad0b17cff09e",
   "metadata": {},
   "outputs": [
    {
     "data": {
      "text/plain": [
       "array([66.  , 64.5 , 57.25, 60.25, 74.75])"
      ]
     },
     "execution_count": 17,
     "metadata": {},
     "output_type": "execute_result"
    }
   ],
   "source": [
    "np.mean(temp,axis=0)"
   ]
  },
  {
   "cell_type": "code",
   "execution_count": 21,
   "id": "e194a8a6-bcac-42bf-9f5a-2eaf6fa8602a",
   "metadata": {},
   "outputs": [
    {
     "data": {
      "text/plain": [
       "9"
      ]
     },
     "execution_count": 21,
     "metadata": {},
     "output_type": "execute_result"
    }
   ],
   "source": [
    "np.argmax(temp)"
   ]
  },
  {
   "cell_type": "code",
   "execution_count": 20,
   "id": "ff033296-906f-472e-8fed-7349633e01e5",
   "metadata": {},
   "outputs": [
    {
     "data": {
      "text/plain": [
       "array([3, 1, 1, 3, 1])"
      ]
     },
     "execution_count": 20,
     "metadata": {},
     "output_type": "execute_result"
    }
   ],
   "source": [
    "np.argmax(temp,axis=0)"
   ]
  },
  {
   "cell_type": "code",
   "execution_count": 28,
   "id": "d5dbefa9-172b-4e06-96c3-95df6c3fd8a8",
   "metadata": {},
   "outputs": [
    {
     "data": {
      "text/plain": [
       "array([[1, 2, 3],\n",
       "       [2, 3, 4],\n",
       "       [3, 4, 5],\n",
       "       [4, 5, 6]])"
      ]
     },
     "execution_count": 28,
     "metadata": {},
     "output_type": "execute_result"
    }
   ],
   "source": [
    "arr1 = np.array([[0],[1],[2],[3]])\n",
    "arr1.shape\n",
    "# (4, 1)\n",
    "\n",
    "arr2 = np.array([[1,2,3]])\n",
    "arr2.shape\n",
    "# (3,)\n",
    "\n",
    "arr1+arr2"
   ]
  },
  {
   "cell_type": "code",
   "execution_count": 29,
   "id": "945f0590-56b6-42bf-bd8e-7efecb6335da",
   "metadata": {},
   "outputs": [
    {
     "data": {
      "text/plain": [
       "array([[1, 2, 3],\n",
       "       [2, 3, 4],\n",
       "       [3, 4, 5],\n",
       "       [4, 5, 6]])"
      ]
     },
     "execution_count": 29,
     "metadata": {},
     "output_type": "execute_result"
    }
   ],
   "source": [
    "arr1 = np.array([[0],[1],[2],[3]])\n",
    "arr1.shape\n",
    "# (4, 1)\n",
    "\n",
    "arr2 = np.array([1,2,3])\n",
    "arr2.shape\n",
    "# (3,)\n",
    "\n",
    "arr1+arr2"
   ]
  }
 ],
 "metadata": {
  "kernelspec": {
   "display_name": "Python 3 (ipykernel)",
   "language": "python",
   "name": "python3"
  },
  "language_info": {
   "codemirror_mode": {
    "name": "ipython",
    "version": 3
   },
   "file_extension": ".py",
   "mimetype": "text/x-python",
   "name": "python",
   "nbconvert_exporter": "python",
   "pygments_lexer": "ipython3",
   "version": "3.10.12"
  }
 },
 "nbformat": 4,
 "nbformat_minor": 5
}
