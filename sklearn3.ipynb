{
 "cells": [
  {
   "cell_type": "code",
   "execution_count": 1,
   "id": "0b003619-47ae-47b3-bcdf-854ec9625fd0",
   "metadata": {},
   "outputs": [],
   "source": [
    "from sklearn.neighbors import KNeighborsClassifier\n",
    "from sklearn.datasets import load_iris\n",
    "from sklearn.model_selection import train_test_split,GridSearchCV\n",
    "from sklearn.preprocessing import StandardScaler"
   ]
  },
  {
   "cell_type": "code",
   "execution_count": 6,
   "id": "81c244d3-7195-47fa-9c48-b3e5a68cd8af",
   "metadata": {},
   "outputs": [
    {
     "name": "stdout",
     "output_type": "stream",
     "text": [
      "比对预测结果和真实值：\n",
      " [ True  True  True  True  True  True  True False  True  True  True  True\n",
      "  True  True  True  True  True  True False  True  True  True  True  True\n",
      "  True  True  True  True  True  True  True  True  True  True  True  True\n",
      "  True  True]\n",
      "直接计算准确率：\n",
      " 0.9473684210526315\n",
      "在交叉验证中验证的最好结果：\n",
      " 0.9553359683794467\n",
      "最好的参数模型：\n",
      " KNeighborsClassifier()\n",
      "每次交叉验证后的准确率结果：\n",
      " {'mean_fit_time': array([0.00084419, 0.00078721, 0.00080686, 0.0007925 ]), 'std_fit_time': array([5.85565738e-05, 1.23779432e-05, 1.56104280e-05, 1.44631871e-06]), 'mean_score_time': array([0.00314808, 0.00352588, 0.00313988, 0.00318003]), 'std_score_time': array([1.23808636e-04, 7.56915459e-04, 2.61585929e-05, 3.74309576e-05]), 'param_n_neighbors': masked_array(data=[1, 3, 5, 7],\n",
      "             mask=[False, False, False, False],\n",
      "       fill_value='?',\n",
      "            dtype=object), 'params': [{'n_neighbors': 1}, {'n_neighbors': 3}, {'n_neighbors': 5}, {'n_neighbors': 7}], 'split0_test_score': array([0.95652174, 0.95652174, 1.        , 1.        ]), 'split1_test_score': array([0.91304348, 0.95652174, 0.91304348, 0.91304348]), 'split2_test_score': array([1., 1., 1., 1.]), 'split3_test_score': array([0.86363636, 0.86363636, 0.90909091, 0.90909091]), 'split4_test_score': array([0.95454545, 0.95454545, 0.95454545, 0.95454545]), 'mean_test_score': array([0.93754941, 0.94624506, 0.95533597, 0.95533597]), 'std_test_score': array([0.04607075, 0.04470773, 0.03979356, 0.03979356]), 'rank_test_score': array([4, 3, 1, 1], dtype=int32)}\n"
     ]
    }
   ],
   "source": [
    "# 1、获取数据集\n",
    "iris = load_iris()\n",
    "# 2、数据基本处理 -- 划分数据集\n",
    "x_train, x_test, y_train, y_test = train_test_split(iris.data, iris.target, random_state=22)\n",
    "\n",
    "# 3、特征工程：标准化\n",
    "# 实例化一个转换器类\n",
    "transfer = StandardScaler()\n",
    "# 调用fit_transform\n",
    "x_train = transfer.fit_transform(x_train)\n",
    "x_test = transfer.transform(x_test)\n",
    "\n",
    "# 4、KNN预估器流程\n",
    "#  4.1 实例化预估器类\n",
    "estimator = KNeighborsClassifier()\n",
    "\n",
    "# 4.2 模型选择与调优——网格搜索和交叉验证 \n",
    "# 准备要调的超参数\n",
    "param_dict = {'n_neighbors':[1,3,5,7]}\n",
    "estimator = GridSearchCV(estimator,param_grid=param_dict,cv=5)\n",
    "\n",
    "# 4.3 fit数据进行训练\n",
    "estimator.fit(x_train,y_train)\n",
    "\n",
    "# 5、评估模型效果\n",
    "# 方法a：比对预测结果和真实值\n",
    "y_predict = estimator.predict(x_test)\n",
    "print(\"比对预测结果和真实值：\\n\", y_predict == y_test)\n",
    "\n",
    "# 方法b：直接计算准确率\n",
    "score = estimator.score(x_test, y_test)\n",
    "print(\"直接计算准确率：\\n\", score) #这里是训练集训练后在测试集计算\n",
    "\n",
    "#然后进行评估查看最终选择的结果和交叉验证的结果\n",
    "print(\"在交叉验证中验证的最好结果：\\n\", estimator.best_score_)  # 训练集分为训练集+验证集\n",
    "print(\"最好的参数模型：\\n\", estimator.best_estimator_)\n",
    "print(\"每次交叉验证后的准确率结果：\\n\", estimator.cv_results_)"
   ]
  }
 ],
 "metadata": {
  "kernelspec": {
   "display_name": "Python 3 (ipykernel)",
   "language": "python",
   "name": "python3"
  },
  "language_info": {
   "codemirror_mode": {
    "name": "ipython",
    "version": 3
   },
   "file_extension": ".py",
   "mimetype": "text/x-python",
   "name": "python",
   "nbconvert_exporter": "python",
   "pygments_lexer": "ipython3",
   "version": "3.10.12"
  }
 },
 "nbformat": 4,
 "nbformat_minor": 5
}
